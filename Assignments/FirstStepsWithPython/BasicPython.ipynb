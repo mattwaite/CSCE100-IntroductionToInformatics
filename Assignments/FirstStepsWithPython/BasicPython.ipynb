{
 "cells": [
  {
   "cell_type": "markdown",
   "metadata": {},
   "source": [
    "# Basic Python and Jupyter Notebooks\n",
    "\n",
    "The tools we are going to use this semester to analyze data are in Python, a very beginner friendly programming language. Never coded before? Been a while? These basics will go a long way to helping you understand how this all works. \n",
    "\n",
    "Let's start with Jupyter Notebooks. Jupyter is a basic coding environment that doesn't require extra software to work in beyond installing Jupyter Notebooks, which you've already done. It works in a browser, is interactive, and better yet, you can document what you are doing. So let's try that first. In the next cell, type `print(\"Hello World\")` and then either hold shift and press return or click the button to the left of the button with the big black square on it -- the one with the triangle pointed at a line. Either way, you've run your code and should see Hello World printed out below your cell. Congrats. You just ran your first line of Python."
   ]
  },
  {
   "cell_type": "code",
   "execution_count": null,
   "metadata": {
    "collapsed": true
   },
   "outputs": [],
   "source": []
  },
  {
   "cell_type": "markdown",
   "metadata": {},
   "source": [
    "But let's do more. We can annotate each step of our process here in our own words. To do that, we need more cells to work with. So click into the cell where you ran your Hello World step and go up to the tool bar and click Insert > Insert Cell Above. \n",
    "\n",
    "Now click into that cell and go up to Cell > Cell Type > Markdown. That will change the cell from one that excutes Python to one that renders Markdown, a simple markup language where you can do basic things like **bold text** or [add links](https://guides.github.com/pdfs/markdown-cheatsheet-online.pdf) to text. This whole document uses Markdown to render text. \n",
    "\n",
    "Notice when you changed it to markdown the In [X]: bits went away. That's your clue that your cell no longer executes code but now will just display text in Markdown. So in that cell, type `# I have made fire` and hit shift enter or click the run button. What do you get? \n",
    "\n",
    "As silly as it is as an example, it's an important one. You will create Markdown cells every time you execute code and use it to explain what you did. In this case, we just used Python's print function to print some words. We can change Hello World to whatever we want and Python will print it to the screen. That's what print does.\n",
    "\n",
    "# Variables\n",
    "\n",
    "One of your first lesssons is to not make things more complicated than you need. \n",
    "\n",
    "Variables are the first place you get to test this lesson. A variable is a name given to something you store. It can be a name, a number, a list of things. It can be a whole database. If it can be found in a computer, you can make it a variable. You can name variables anything you like, but best practice is to name it whatever it is. So if it's a place to store names, call it name. If it's a place to store an age, make it age. \n",
    "\n",
    "In Python, the equal sign is the symbol to assign variables to a name. So, for instance, if you see `myname = \"Matt\"` that means I've assigned the value \"Matt\" to the variable name myname. Notice how Matt is in quotes? That tells Python what this variable is. Words -- called strings in Python -- are in quotes. Numbers are not. It's just that simple. \n",
    "\n",
    "So let's create a variable. Call it firstname and assign your first name to it, just like I did above with myname. Then, when you've created your variable and told it what your first name is, print it like `print(firstname)`. Be sure to run the command -- shift enter -- after you have put your code in. "
   ]
  },
  {
   "cell_type": "code",
   "execution_count": null,
   "metadata": {
    "collapsed": true
   },
   "outputs": [],
   "source": []
  },
  {
   "cell_type": "markdown",
   "metadata": {},
   "source": [
    "Now let's do the same with your last name, creating a variable called lastname and assigning it the value of your last name. After you've done that, `print(firstname, lastname)`"
   ]
  },
  {
   "cell_type": "code",
   "execution_count": 3,
   "metadata": {
    "collapsed": true
   },
   "outputs": [],
   "source": []
  },
  {
   "cell_type": "markdown",
   "metadata": {},
   "source": [
    "Neat eh? If you put `print(lastname, firstname)` you can probably guess what you'd see. \n",
    "\n",
    "So let's play a little. You can use variables to plug in words in a sentence using something called substitution. So create a variable called age and assign it the value of your age. REMEMBER: Numbers don't have quotes around them. \n",
    "\n",
    "The way to use substitution is a little tricky at first, but once you can read it, it gets very easy. To substitute a word, you use `%s`. To substitute a number without a decimal point, called an integer, you use `%i`. So if I wanted to write a sentence that said how old I am using Python and variables, I would write `print(\"%s %s is %i years old\" % (firstname, lastname, age))`. \n",
    "\n",
    "Let's unpack that a bit. `print()` is a function -- we'll get into that later -- that prints things. Simple. Inside the parenthesis is what gets printed. So the next parts -- `\"%s %s is %i years old\"` is the string, with the substitutions in place. They're just placeholders that python will switch out. The `%` after the quote mark is us telling python that the substitutions are as follows, and then we give it a list of them in parentheses. \n",
    "\n",
    "In the next box, I want you to use what you have learned. Using the code above, I want you to create a sentence in Python using at least three variables and substituting them in. "
   ]
  },
  {
   "cell_type": "code",
   "execution_count": null,
   "metadata": {
    "collapsed": true
   },
   "outputs": [],
   "source": []
  },
  {
   "cell_type": "markdown",
   "metadata": {},
   "source": [
    "# Operators\n",
    "\n",
    "Operators in Python are similar to other math and logic functions you've seen before. This is a shortlist of the ones you'll most often use.\n",
    "\n",
    "### Math operators\n",
    "\n",
    "|Operator|Operation|\n",
    "|--------|---------|\n",
    "|+|Addition|\n",
    "|-|Subtraction|\n",
    "|\\*|Multiplication|\n",
    "|/|Division|\n",
    "\n",
    "### Logic operators\n",
    "\n",
    "|Operator|Operation|\n",
    "|--------|---------|\n",
    "|==|Equal to|\n",
    "|>|Greather Than|\n",
    "|<|Less than|\n",
    "|>=|Greater Than or Equal To|\n",
    "|<=|Less Than or Equal To|\n",
    "|!=|Does Not Equal|\n",
    "\n",
    "Operators have many uses. You can do math with them. Try this: Type `2+2` into the next box and run it. "
   ]
  },
  {
   "cell_type": "code",
   "execution_count": null,
   "metadata": {
    "collapsed": true
   },
   "outputs": [],
   "source": []
  },
  {
   "cell_type": "markdown",
   "metadata": {},
   "source": [
    "So if you want to make Python the world's most complicated calculator, you can do it (indeed we will do some things you could only dream of doing on a calculator later in the semester). \n",
    "\n",
    "Operators are most useful in determining logic. Try typing this in the next box: `2 == 2`"
   ]
  },
  {
   "cell_type": "code",
   "execution_count": null,
   "metadata": {
    "collapsed": true
   },
   "outputs": [],
   "source": []
  },
  {
   "cell_type": "markdown",
   "metadata": {},
   "source": [
    "See how it returned True? You can guess if you said 2 == 3 it would return False. Those are handy when you want to compare two bits of data using an operator -- is this greater than that? Based on the answer, you can then do something or something else. Those are called If statements.\n",
    "\n",
    "# If statements, for loops and lists\n",
    "\n",
    "So let's pretend we have a list of numbers. And we want to do something simple, like determine if that number is greater than 4. To do this, we need to do a few things. \n",
    "\n",
    "First, a list. A list is a simple data structure in Python. It looks like this: `mylist = [1,2,3,4,5]`. The brackets tell Python this is a list. You can store anything in a list. It doesn't have to be all one thing, either. You can have a list like `mymess = [1,2,\"Hair\",4,\"Zebras\"]` and Python thinks that's a fine list. \n",
    "\n",
    "We can do powerful things with lists, but the first thing you have to understand about lists is this: Python starts a count with 0. So 0 is the first element in the list, 1 is the second, and so forth. We can slice a list by position like `mylist[0]`, which gives us the first number in the list. If you ran this, you'd get 1, which is the first number in the list. If you ran `mylist[1]` you'd get 2. It's frustrating at first, but you get used to it.\n",
    "\n",
    "So let's try some of these for yourself. In the next window, type the following:\n",
    "\n",
    "```\n",
    "mylist = [1,2,3,4,5]\n",
    "\n",
    "firstnumber = mylist[0]\n",
    "\n",
    "print(firstnumber)\n",
    "```"
   ]
  },
  {
   "cell_type": "code",
   "execution_count": null,
   "metadata": {
    "collapsed": true
   },
   "outputs": [],
   "source": []
  },
  {
   "cell_type": "markdown",
   "metadata": {},
   "source": [
    "What if we wanted to print out each item in the list in order? To do that, we have to introduce the concept of a loop. A loop is where a program does a thing for each thing in the thing. Get that? Maybe a clearer way would be that the loop performs some action for each item in a list. So, to print each item in the list, you do this:\n",
    "\n",
    "```\n",
    "for item in mylist:\n",
    "    print(item)\n",
    "```\n",
    "\n",
    "Now you try it. Note: That second line is indented four spaces. Python does not use tabs. Jupyter Notebooks might take care of the indent for you, but if it doesn't, it's four spaces in for each level of indent. "
   ]
  },
  {
   "cell_type": "code",
   "execution_count": null,
   "metadata": {
    "collapsed": true
   },
   "outputs": [],
   "source": []
  },
  {
   "cell_type": "markdown",
   "metadata": {},
   "source": [
    "Now using what you've learned, I want you to do something for me. Create a Python list of five people you know. I want you to print out the first person in the list and the third person in the list. Then I want you to print out each name one by one."
   ]
  },
  {
   "cell_type": "code",
   "execution_count": null,
   "metadata": {
    "collapsed": true
   },
   "outputs": [],
   "source": []
  },
  {
   "cell_type": "markdown",
   "metadata": {},
   "source": [
    "# Functions and methods\n",
    "\n",
    "A function in Python is a bit of code that does a thing. The function almost always takes input, and almost always produces output. Some functions are part of libraries that you can import into your program and use. Some functions you create yourself based on your needs. Methods are often functions, but they are attached to a class of object. A simple example: A string is a class of object. Strings have methods attached to them because they belong to this class. \n",
    "\n",
    "An example is handy. Let's say we have a list of names. And we are angry with every person on the list. We want to print their names out to the screen in upper case letters without having to retype the names. Well, conveniently, we have a method on strings called uppper that we can use. \n",
    "\n",
    "```\n",
    "names = [\"Sally\", \"Steve\", \"Susie\", \"Sven\", \"Sully\"]\n",
    "\n",
    "for name in names:\n",
    "    print(name.upper())\n",
    "\n",
    "```\n",
    "\n",
    "You can probably guess what `lower()` does.\n",
    "\n",
    "Generally speaking, methods come after the object like the above example.\n",
    "\n",
    "\n",
    "You've already used a function -- print. Generally, functions come before the object -- the object is inside parenthesis, so as to be acted upon. Let's give a silly example of a function we create. You would never do this -- it's silly and can be done much easier with different code, but it'll show you everything going on. \n",
    "\n",
    "Let's go back to `mylist`. Let's say we want to double each number in the list and we don't know you can just do that in a loop. We think we need to make it a function. So to do that, we first have to define the function -- using `def` -- and return the number. Here's an overly verbose example:\n",
    "\n",
    "```\n",
    "def double(number):\n",
    "    newnumber = number * 2\n",
    "    return newnumber\n",
    "```\n",
    "\n",
    "Note in the define step, we define the function, give it a name (double in this case) and then in the parentheses, we tell the function to expect a variable called number. We can name the function anything. And we can tell it to expect a variable called anything we want. We could call the function nebraska and the variable superman if we wanted to. It does not matter. But, the smart programmer names things for what they are. It makes it easier to come back to later. \n",
    "\n",
    "Now, to use our function, we have to call it. So we'd run our loop through `mylist` and call it on each number.\n",
    "\n",
    "```\n",
    "for number in mylist:\n",
    "    print(double(number))\n",
    "```\n",
    "\n",
    "Here it is working."
   ]
  },
  {
   "cell_type": "code",
   "execution_count": 21,
   "metadata": {},
   "outputs": [
    {
     "name": "stdout",
     "output_type": "stream",
     "text": [
      "2\n",
      "4\n",
      "6\n",
      "8\n",
      "10\n"
     ]
    }
   ],
   "source": [
    "mylist = [1,2,3,4,5]\n",
    "\n",
    "def double(number):\n",
    "    newnumber = number * 2\n",
    "    return newnumber\n",
    "\n",
    "for number in mylist:\n",
    "    print(double(number))"
   ]
  },
  {
   "cell_type": "markdown",
   "metadata": {},
   "source": [
    "If your function needs more than one variable, just name them in the function call. So `def mycomplexfunction(firstvariable, secondvariable, thirdvariable):`\n",
    "\n",
    "Your turn. \n",
    "\n",
    "I want you to make me a function that calculates percent change. Your function will need to take in the new and the old value and spit out a percent change figure. So you need to define that function, the define the new and old variables and then call your function with those variables. "
   ]
  },
  {
   "cell_type": "code",
   "execution_count": null,
   "metadata": {
    "collapsed": true
   },
   "outputs": [],
   "source": []
  },
  {
   "cell_type": "markdown",
   "metadata": {},
   "source": [
    "# Make your own Mad Lib\n",
    "\n",
    "In the cell below, fill out the Mad Lib you were given in class. Ask someone to give you answers to fill in the blanks. Print it to the screen so I can see their answers. **Note:** You can't reuse variable names. They have to be unique. If you need two nouns, you'll have to name them noun1 and noun2 or something like that. "
   ]
  },
  {
   "cell_type": "code",
   "execution_count": null,
   "metadata": {
    "collapsed": true
   },
   "outputs": [],
   "source": []
  }
 ],
 "metadata": {
  "kernelspec": {
   "display_name": "Python 3",
   "language": "python",
   "name": "python3"
  },
  "language_info": {
   "codemirror_mode": {
    "name": "ipython",
    "version": 3
   },
   "file_extension": ".py",
   "mimetype": "text/x-python",
   "name": "python",
   "nbconvert_exporter": "python",
   "pygments_lexer": "ipython3",
   "version": "3.6.1"
  }
 },
 "nbformat": 4,
 "nbformat_minor": 2
}
