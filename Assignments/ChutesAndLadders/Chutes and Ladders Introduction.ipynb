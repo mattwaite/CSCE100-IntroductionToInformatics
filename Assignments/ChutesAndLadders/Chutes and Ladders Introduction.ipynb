{
 "cells": [
  {
   "cell_type": "markdown",
   "metadata": {},
   "source": [
    "# Board games and Python\n",
    "\n",
    "With what you know now, you have enough knowledge on board to be able to make your computer do things a little more complicated. So today, we're going break down the game Chutes and Ladders using problem decomposition and then you're going to program your computer to play it. \n",
    "\n",
    "### You have the game. Play it. \n",
    "### How do you play? \n",
    "### What steps are needed? \n",
    "### How do you break those down into smaller steps?\n",
    "\n",
    "One of the things you need for this assignment is a new way to store data. You need a player, and you have to know where they are on the board. In programming, this is called State. It is the contents and location of your data throughout the program. In our case, our state is both of the players and of the game. \n",
    "\n",
    "In Python, we have some basic data storages: Variables(one element), Tuples(two elements), Lists(an array of variables, tuples or lists), and Dictionaries. A dictionary is a method of storing a Key Value pair. It's easier to understand with an example. \n",
    "\n",
    "So let's create a dictionary of people and their age."
   ]
  },
  {
   "cell_type": "code",
   "execution_count": 1,
   "metadata": {
    "collapsed": true
   },
   "outputs": [],
   "source": [
    "people = {\"Matt\": 41, \"Nancy\": 27, \"Paige\": 13, \"Brady\": 10}"
   ]
  },
  {
   "cell_type": "markdown",
   "metadata": {},
   "source": [
    "Now I can access these by referencing their key. "
   ]
  },
  {
   "cell_type": "code",
   "execution_count": 2,
   "metadata": {
    "collapsed": false
   },
   "outputs": [
    {
     "data": {
      "text/plain": [
       "41"
      ]
     },
     "execution_count": 2,
     "metadata": {},
     "output_type": "execute_result"
    }
   ],
   "source": [
    "people['Matt']"
   ]
  },
  {
   "cell_type": "markdown",
   "metadata": {},
   "source": [
    "I can get a list of keys."
   ]
  },
  {
   "cell_type": "code",
   "execution_count": 3,
   "metadata": {
    "collapsed": false
   },
   "outputs": [
    {
     "data": {
      "text/plain": [
       "['Paige', 'Nancy', 'Matt', 'Brady']"
      ]
     },
     "execution_count": 3,
     "metadata": {},
     "output_type": "execute_result"
    }
   ],
   "source": [
    "list(people.keys())"
   ]
  },
  {
   "cell_type": "markdown",
   "metadata": {},
   "source": [
    "I can sort them."
   ]
  },
  {
   "cell_type": "code",
   "execution_count": 4,
   "metadata": {
    "collapsed": false
   },
   "outputs": [
    {
     "data": {
      "text/plain": [
       "[10, 13, 27, 41]"
      ]
     },
     "execution_count": 4,
     "metadata": {},
     "output_type": "execute_result"
    }
   ],
   "source": [
    "sorted(people.values())"
   ]
  },
  {
   "cell_type": "markdown",
   "metadata": {},
   "source": [
    "I can see if someone is in my dictionary."
   ]
  },
  {
   "cell_type": "code",
   "execution_count": 5,
   "metadata": {
    "collapsed": false
   },
   "outputs": [
    {
     "data": {
      "text/plain": [
       "True"
      ]
     },
     "execution_count": 5,
     "metadata": {},
     "output_type": "execute_result"
    }
   ],
   "source": [
    "'Matt' in people"
   ]
  },
  {
   "cell_type": "markdown",
   "metadata": {},
   "source": [
    "Nancy had a birthday!"
   ]
  },
  {
   "cell_type": "code",
   "execution_count": 6,
   "metadata": {
    "collapsed": false
   },
   "outputs": [
    {
     "data": {
      "text/plain": [
       "28"
      ]
     },
     "execution_count": 6,
     "metadata": {},
     "output_type": "execute_result"
    }
   ],
   "source": [
    "people['Nancy'] = 28\n",
    "people['Nancy']"
   ]
  },
  {
   "cell_type": "markdown",
   "metadata": {},
   "source": [
    "# Assignment\n",
    "\n",
    "Write a program that plays Chutes and Ladders. Your program must:\n",
    "\n",
    "1. Use a dictionary to keep track of where players are on the board.\n",
    "2. Use a function to spin the wheel.\n",
    "3. Use a function to move a player.\n",
    "4. Correctly determine the winner, taking note of Chutes and Ladders rule on landing directly on square 100.\n",
    "5. Print to the screen important information to keep track of the game, including who won.\n",
    "\n",
    "To help you, here are the squares with chutes and ladders, where they occur on the board and where they go. \n",
    "\n",
    "    if playermove == 1:\n",
    "        playermove = 38\n",
    "    elif playermove == 4:\n",
    "        playermove = 14\n",
    "    elif playermove == 9:\n",
    "        playermove = 31\n",
    "    elif playermove == 16:\n",
    "        playermove = 6\n",
    "    elif playermove == 21:\n",
    "        playermove = 42\n",
    "    elif playermove == 28:\n",
    "        playermove = 84\n",
    "    elif playermove == 36:\n",
    "        playermove = 44\n",
    "    elif playermove == 48:\n",
    "        playermove = 26\n",
    "    elif playermove == 49:\n",
    "        playermove = 11\n",
    "    elif playermove == 51:\n",
    "        playermove = 67\n",
    "    elif playermove == 56:\n",
    "        playermove = 53\n",
    "    elif playermove == 62:\n",
    "        playermove = 19\n",
    "    elif playermove == 65:\n",
    "        playermove = 60\n",
    "    elif playermove == 71:\n",
    "        playermove = 91\n",
    "    elif playermove == 80:\n",
    "        playermove = 100\n",
    "    elif playermove == 87:\n",
    "        playermove = 24\n",
    "    elif playermove == 93:\n",
    "        playermove = 73\n",
    "    elif playermove == 95:\n",
    "        playermove = 75\n",
    "    elif playermove == 98:\n",
    "        playermove = 78\n",
    "\n"
   ]
  },
  {
   "cell_type": "code",
   "execution_count": null,
   "metadata": {
    "collapsed": true
   },
   "outputs": [],
   "source": []
  }
 ],
 "metadata": {
  "kernelspec": {
   "display_name": "Python 3",
   "language": "python",
   "name": "python3"
  },
  "language_info": {
   "codemirror_mode": {
    "name": "ipython",
    "version": 3
   },
   "file_extension": ".py",
   "mimetype": "text/x-python",
   "name": "python",
   "nbconvert_exporter": "python",
   "pygments_lexer": "ipython3",
   "version": "3.5.1"
  }
 },
 "nbformat": 4,
 "nbformat_minor": 0
}
