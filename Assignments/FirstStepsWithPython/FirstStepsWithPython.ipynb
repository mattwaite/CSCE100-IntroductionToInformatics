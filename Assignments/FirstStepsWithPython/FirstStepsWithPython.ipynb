{
 "cells": [
  {
   "cell_type": "markdown",
   "metadata": {},
   "source": [
    "# Your first steps with Python\n",
    "\n",
    "We're going to take our first steps into programming today with some of the basics: variables, lists, loops, conditionals and functions.\n",
    "\n",
    "\n",
    "### Hello World\n",
    "\n",
    "Every tutorial begins with Hello World and so I suppose we have to do this. So let's get it out of the way. \n",
    "\n",
    "Type this then press the execute button (or shift enter).\n",
    "\n",
    "Wow. "
   ]
  },
  {
   "cell_type": "code",
   "execution_count": 1,
   "metadata": {},
   "outputs": [
    {
     "name": "stdout",
     "output_type": "stream",
     "text": [
      "Hello world\n"
     ]
    }
   ],
   "source": [
    "print(\"Hello world\")"
   ]
  },
  {
   "cell_type": "markdown",
   "metadata": {},
   "source": [
    "### Variables\n",
    "\n",
    "So let's riff off this and dip into variables. Remember: A variable is just a bucket to store something. That something can be words, numbers, lists and all kinds of other stuff. \n",
    "\n",
    "Let's make a variable called message and print that:"
   ]
  },
  {
   "cell_type": "code",
   "execution_count": 2,
   "metadata": {},
   "outputs": [
    {
     "name": "stdout",
     "output_type": "stream",
     "text": [
      "Informatics is the Bees Knees!\n"
     ]
    }
   ],
   "source": [
    "message=\"Informatics is the Bees Knees!\"\n",
    "\n",
    "print(message)"
   ]
  },
  {
   "cell_type": "markdown",
   "metadata": {},
   "source": [
    "So this is a more complicated version of Hello World. Still not exciting. But we can create as many variables as we need and use them. "
   ]
  },
  {
   "cell_type": "code",
   "execution_count": 5,
   "metadata": {},
   "outputs": [
    {
     "name": "stdout",
     "output_type": "stream",
     "text": [
      "My professor is old. He's at least 41 .\n"
     ]
    }
   ],
   "source": [
    "message=\"My professor is old. He's at least\"\n",
    "age = 41\n",
    "\n",
    "print(message, age,\".\")"
   ]
  },
  {
   "cell_type": "markdown",
   "metadata": {},
   "source": [
    "We can go on for days like this. But what if we want to play Mad Libs? Remember playing Mad Libs as a kid? Let's do that. Let's create a Mad Lib out of the form of \"(name) (adverb) (verb) over the (adjective) (noun), just like (pronoun) dreamed.\""
   ]
  },
  {
   "cell_type": "code",
   "execution_count": 6,
   "metadata": {},
   "outputs": [
    {
     "name": "stdout",
     "output_type": "stream",
     "text": [
      "Matt wildly flew over the fat strawberry patch, just like he dreamed.\n"
     ]
    }
   ],
   "source": [
    "name = \"Matt\"\n",
    "adverb = \"wildly\"\n",
    "verb = \"flew\"\n",
    "adjective = \"fat\"\n",
    "noun = \"strawberry patch\"\n",
    "pronoun = \"he\"\n",
    "\n",
    "print(\"%s %s %s over the %s %s, just like %s dreamed.\" % (name, adverb, verb, adjective, noun, pronoun))\n"
   ]
  },
  {
   "cell_type": "markdown",
   "metadata": {},
   "source": [
    "This method uses substitution to replace the placeholder (%s) with the corresponding item from the list. Note: They must match."
   ]
  },
  {
   "cell_type": "markdown",
   "metadata": {},
   "source": [
    "---\n",
    "\n",
    "# Make your own Mad Lib\n",
    "\n",
    "Create a sentence or pair of sentences with five blanks in it. Ask your neighbor to give you answers to the blanks. Print it to the screen. You have 15 minutes.\n",
    "\n",
    "---"
   ]
  },
  {
   "cell_type": "code",
   "execution_count": 7,
   "metadata": {},
   "outputs": [
    {
     "name": "stdout",
     "output_type": "stream",
     "text": [
      "It was Luke Skywalker's destiny to follow in his father's -steps and the same can be said for the  bounty hunter, Boba Fett. To be a bounty hunter, one must live by a few very  rules: 1. Always be ready to  at the slightest sign of trouble. Have your jet- on your back and your spaceship ready to take off at a moment's .\n"
     ]
    }
   ],
   "source": [
    "part_of_the_body = \"\"\n",
    "adjective = \"\"\n",
    "adjective2 = \"\"\n",
    "verb = \"\"\n",
    "noun = \"\"\n",
    "noun2 = \"\"\n",
    "\n",
    "print(\"It was Luke Skywalker's destiny to follow in his father's %s-steps and the same can be said for the %s bounty hunter, Boba Fett. To be a bounty hunter, one must live by a few very %s rules: 1. Always be ready to %s at the slightest sign of trouble. Have your jet-%s on your back and your spaceship ready to take off at a moment's %s.\" % (part_of_the_body, adjective, adjective2, verb, noun, noun2))"
   ]
  },
  {
   "cell_type": "code",
   "execution_count": 10,
   "metadata": {},
   "outputs": [
    {
     "name": "stdout",
     "output_type": "stream",
     "text": [
      "The five freedoms enshrined in the First Amendment of the Constition are: speech, religion, press, assembly, petition.\n"
     ]
    }
   ],
   "source": [
    "freedom1 = \"speech\"\n",
    "freedom2 = \"religion\"\n",
    "freedom3 = \"press\"\n",
    "freedom4 = \"assembly\"\n",
    "freedom5 = \"petition\"\n",
    "\n",
    "print(\"The five freedoms enshrined in the First Amendment of the Constition are: %s, %s, %s, %s, %s.\" % (freedom1, freedom2, freedom3, freedom4, freedom5))"
   ]
  },
  {
   "cell_type": "markdown",
   "metadata": {},
   "source": [
    "# Variable types\n",
    "\n",
    "The types of variables we can use are:\n",
    "\n",
    "* Strings ex. \"words here\"\n",
    "* Integers ex. 15\n",
    "* Floats ex. 1.5\n",
    "* Booleans ex. True\n",
    "\n",
    "Note: Quote marks matter. `winner = True` is a boolean meaning what it says. `winner = \"True\"` is a string that says True and is not a boolean. Also, \"15\" is a string and 15 is an integer. Numbers do not have quote marks around them. To see the effect of this, try to add them."
   ]
  },
  {
   "cell_type": "code",
   "execution_count": 11,
   "metadata": {},
   "outputs": [
    {
     "ename": "TypeError",
     "evalue": "unsupported operand type(s) for +: 'int' and 'str'",
     "output_type": "error",
     "traceback": [
      "\u001b[0;31m---------------------------------------------------------------------------\u001b[0m",
      "\u001b[0;31mTypeError\u001b[0m                                 Traceback (most recent call last)",
      "\u001b[0;32m<ipython-input-11-e62e81505c7b>\u001b[0m in \u001b[0;36m<module>\u001b[0;34m()\u001b[0m\n\u001b[1;32m      2\u001b[0m \u001b[0mnot_a_number\u001b[0m \u001b[0;34m=\u001b[0m \u001b[0;34m\"15\"\u001b[0m\u001b[0;34m\u001b[0m\u001b[0m\n\u001b[1;32m      3\u001b[0m \u001b[0;34m\u001b[0m\u001b[0m\n\u001b[0;32m----> 4\u001b[0;31m \u001b[0mprint\u001b[0m\u001b[0;34m(\u001b[0m\u001b[0mnumber\u001b[0m\u001b[0;34m+\u001b[0m\u001b[0mnot_a_number\u001b[0m\u001b[0;34m)\u001b[0m\u001b[0;34m\u001b[0m\u001b[0m\n\u001b[0m",
      "\u001b[0;31mTypeError\u001b[0m: unsupported operand type(s) for +: 'int' and 'str'"
     ]
    }
   ],
   "source": [
    "number = 15\n",
    "not_a_number = \"15\"\n",
    "\n",
    "print(number+not_a_number)"
   ]
  },
  {
   "cell_type": "markdown",
   "metadata": {},
   "source": [
    "Any guesses why this happens?"
   ]
  },
  {
   "cell_type": "markdown",
   "metadata": {},
   "source": [
    "### Conditionals and comparisons\n",
    "\n",
    "Conditionals in Python are very simple. You can get a simple boolean answer by comparing things:"
   ]
  },
  {
   "cell_type": "code",
   "execution_count": 18,
   "metadata": {},
   "outputs": [
    {
     "name": "stdout",
     "output_type": "stream",
     "text": [
      "True\n"
     ]
    }
   ],
   "source": [
    "number1 = 16\n",
    "number2 = 15\n",
    "\n",
    "print(number1 > number2)"
   ]
  },
  {
   "cell_type": "markdown",
   "metadata": {},
   "source": [
    "Or `<` or `<=` or `!=` for does not equal. If you want equal to, then you need two equal signs, not one. One equal sign makes it a variable. Two equal signs it the comparison.\n",
    "\n",
    "Now you can use conditional logic:"
   ]
  },
  {
   "cell_type": "code",
   "execution_count": 10,
   "metadata": {},
   "outputs": [
    {
     "name": "stdout",
     "output_type": "stream",
     "text": [
      "smaller!\n"
     ]
    }
   ],
   "source": [
    "number1 = 15\n",
    "number2 = 20\n",
    "\n",
    "if number1 > number2:\n",
    "    print(\"bigger!\")\n",
    "elif number1 < number2:\n",
    "    print(\"smaller!\")\n",
    "else:\n",
    "    print(\"equal!\")\n"
   ]
  },
  {
   "cell_type": "markdown",
   "metadata": {},
   "source": [
    "If there are only two possibilities, then you want if, else. If there's more than two possibilities, then the elif comes in handy."
   ]
  },
  {
   "cell_type": "markdown",
   "metadata": {},
   "source": [
    "### Lists\n",
    "\n",
    "Lists are what you think they are: They're a list of objects that you can do stuff with. Lists are very powerful and you can do a lot with them. For our purposes, we're going to deal with indexing and looping.\n",
    "\n",
    "Your first list:\n"
   ]
  },
  {
   "cell_type": "code",
   "execution_count": 21,
   "metadata": {},
   "outputs": [
    {
     "name": "stdout",
     "output_type": "stream",
     "text": [
      "['Matt', 'Steve', 'Sally', 'Jane']\n"
     ]
    }
   ],
   "source": [
    "people = [\"Matt\", \"Steve\", \"Sally\", \"Jane\"]\n",
    "\n",
    "print(people)"
   ]
  },
  {
   "cell_type": "markdown",
   "metadata": {},
   "source": [
    "Not too exciting, eh?\n",
    "\n",
    "We can find the first item in the list, or the last one, by using indexing. Indexing is assigning a number to each item in a list. NOTE: In Python and a lot of other programming lanugages, the index starts with 0. \n",
    "\n",
    "So to get the first item in the list, do this:"
   ]
  },
  {
   "cell_type": "code",
   "execution_count": 22,
   "metadata": {},
   "outputs": [
    {
     "name": "stdout",
     "output_type": "stream",
     "text": [
      "Matt\n"
     ]
    }
   ],
   "source": [
    "print(people[0])"
   ]
  },
  {
   "cell_type": "markdown",
   "metadata": {},
   "source": [
    "Or to get the last, use `print people[-1]`\n",
    "\n",
    "*Why negative 1?*"
   ]
  },
  {
   "cell_type": "markdown",
   "metadata": {},
   "source": [
    "### Loops\n",
    "\n",
    "The real power of list is in loops. A loop is where Python goes to each item in your list and does something until it gets to the end of the list. We can make a sentence about each person in our list with a loop."
   ]
  },
  {
   "cell_type": "code",
   "execution_count": 25,
   "metadata": {},
   "outputs": [
    {
     "name": "stdout",
     "output_type": "stream",
     "text": [
      "Matt is a gigantic tool\n",
      "Steve is a gigantic tool\n",
      "Sally is a gigantic tool\n",
      "Jane is a gigantic tool\n"
     ]
    }
   ],
   "source": [
    "people = [\"Matt\", \"Steve\", \"Sally\", \"Jane\"]\n",
    "\n",
    "for person in people:\n",
    "    print(person + \" is a gigantic tool\")"
   ]
  },
  {
   "cell_type": "markdown",
   "metadata": {},
   "source": [
    "What happened? Got a spacing problem, eh? Python is doing literally what you told it to do: print the name, then print the phrase immediately next. If you want a space, you have to add a space.\n",
    "\n",
    "Now this loop takes some unpacking. What it says is for each thing in a list of things, do a thing. What you call that individual thing is up to you -- there's no magic to it. You're creating a variable on the fly called whatever you put there. So for person in people or for zebras in people, you can put whatever you want after the for. The in part is less forgiving. The second part of that is your list. There's better be a list matching your list there. So for person in people COLON (remember the colon -- if you get a syntax error, a safe bet is you forgot it). Then you drop down a line and indent four spaces. In Python, indents are four spaces. An on that indented line, you do something. Or for the next series of lines, you do a thing, until you're done. \n"
   ]
  },
  {
   "cell_type": "markdown",
   "metadata": {},
   "source": [
    "### Functions\n",
    "\n",
    "A function is a collection of instructions you can call over and over again and it will give you an answer back. Your function may take something into it -- an input -- and it will almost always provide an output. They're a good way to take code out of your main area to simplify things.\n",
    "\n",
    "So let's make a function:"
   ]
  },
  {
   "cell_type": "code",
   "execution_count": 27,
   "metadata": {},
   "outputs": [
    {
     "name": "stdout",
     "output_type": "stream",
     "text": [
      "Matt likes them some Matt\n",
      "Steve likes them some Jane\n",
      "Sally likes them some Steve\n",
      "Jane likes them some Jane\n"
     ]
    }
   ],
   "source": [
    "import random\n",
    "\n",
    "people = [\"Matt\", \"Steve\", \"Sally\", \"Jane\"]\n",
    "\n",
    "def hookupizer(person):\n",
    "    target = random.choice(people)\n",
    "    hookup = \"%s likes them some %s\" % (person, target)\n",
    "    return hookup\n",
    "\n",
    "for person in people:\n",
    "    print(hookupizer(person))\n"
   ]
  },
  {
   "cell_type": "markdown",
   "metadata": {},
   "source": [
    "In this example, there's two new things: first we imported a library called random so we can get a random choice from a list. We defined a function called hookupizer, which creates a variable from a random choice from the list of people. And then the rest you have done before -- loop through a list, print out a result. "
   ]
  },
  {
   "cell_type": "markdown",
   "metadata": {},
   "source": [
    "### Assignment\n",
    "\n",
    "I want you to write a simple Python script where the computer plays Rock, Paper Scissors against itself using random choices. You will need to define a function that makes a choice. You will need to define a function that determines a winner. And you'll need to play the game. Bonus points: How would you set it up to determine a winner of two out of three?"
   ]
  },
  {
   "cell_type": "code",
   "execution_count": null,
   "metadata": {
    "collapsed": true
   },
   "outputs": [],
   "source": []
  }
 ],
 "metadata": {
  "kernelspec": {
   "display_name": "Python 3",
   "language": "python",
   "name": "python3"
  },
  "language_info": {
   "codemirror_mode": {
    "name": "ipython",
    "version": 3
   },
   "file_extension": ".py",
   "mimetype": "text/x-python",
   "name": "python",
   "nbconvert_exporter": "python",
   "pygments_lexer": "ipython3",
   "version": "3.6.1"
  }
 },
 "nbformat": 4,
 "nbformat_minor": 1
}
