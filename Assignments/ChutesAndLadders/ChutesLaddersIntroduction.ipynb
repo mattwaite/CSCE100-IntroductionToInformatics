{
 "cells": [
  {
   "cell_type": "markdown",
   "metadata": {},
   "source": [
    "# Board games and Python\n",
    "\n",
    "With what you know now, you have enough knowledge on board to be able to make your computer do things a little more complicated. So today, we're going break down the game Chutes and Ladders using problem decomposition and then you're going to program your computer to play it. \n",
    "\n",
    "### You have the game. Play it. \n",
    "### How do you play? \n",
    "### What steps are needed? \n",
    "### How do you break those down into smaller steps?\n",
    "\n",
    "One of the things you need for this assignment is a new way to store data. You need a player, and you have to know where they are on the board. In programming, this is called State. It is the contents and location of your data throughout the program. In our case, our state is both of the players and of the game. \n",
    "\n",
    "In Python, we have some basic data storages: Variables(one element), Tuples(two elements), Lists(an array of variables, tuples or lists), and Dictionaries. A dictionary is a method of storing a Key Value pair. It's easier to understand with an example. \n",
    "\n",
    "So let's create a dictionary of people and their age."
   ]
  },
  {
   "cell_type": "code",
   "execution_count": 1,
   "metadata": {
    "collapsed": true
   },
   "outputs": [],
   "source": [
    "people = {\"Matt\": 42, \"Nancy\": 27, \"Paige\": 14, \"Brady\": 11}"
   ]
  },
  {
   "cell_type": "markdown",
   "metadata": {},
   "source": [
    "Now I can access these by referencing their key. "
   ]
  },
  {
   "cell_type": "code",
   "execution_count": 2,
   "metadata": {},
   "outputs": [
    {
     "data": {
      "text/plain": [
       "42"
      ]
     },
     "execution_count": 2,
     "metadata": {},
     "output_type": "execute_result"
    }
   ],
   "source": [
    "people['Matt']"
   ]
  },
  {
   "cell_type": "markdown",
   "metadata": {},
   "source": [
    "I can get a list of keys."
   ]
  },
  {
   "cell_type": "code",
   "execution_count": 3,
   "metadata": {},
   "outputs": [
    {
     "data": {
      "text/plain": [
       "['Matt', 'Nancy', 'Paige', 'Brady']"
      ]
     },
     "execution_count": 3,
     "metadata": {},
     "output_type": "execute_result"
    }
   ],
   "source": [
    "list(people.keys())"
   ]
  },
  {
   "cell_type": "markdown",
   "metadata": {},
   "source": [
    "I can sort them."
   ]
  },
  {
   "cell_type": "code",
   "execution_count": 4,
   "metadata": {},
   "outputs": [
    {
     "data": {
      "text/plain": [
       "[11, 14, 27, 42]"
      ]
     },
     "execution_count": 4,
     "metadata": {},
     "output_type": "execute_result"
    }
   ],
   "source": [
    "sorted(people.values())"
   ]
  },
  {
   "cell_type": "markdown",
   "metadata": {},
   "source": [
    "I can see if someone is in my dictionary."
   ]
  },
  {
   "cell_type": "code",
   "execution_count": 5,
   "metadata": {},
   "outputs": [
    {
     "data": {
      "text/plain": [
       "True"
      ]
     },
     "execution_count": 5,
     "metadata": {},
     "output_type": "execute_result"
    }
   ],
   "source": [
    "'Matt' in people"
   ]
  },
  {
   "cell_type": "markdown",
   "metadata": {},
   "source": [
    "Nancy had a birthday!"
   ]
  },
  {
   "cell_type": "code",
   "execution_count": 6,
   "metadata": {},
   "outputs": [
    {
     "data": {
      "text/plain": [
       "28"
      ]
     },
     "execution_count": 6,
     "metadata": {},
     "output_type": "execute_result"
    }
   ],
   "source": [
    "people['Nancy'] = 28\n",
    "people['Nancy']"
   ]
  },
  {
   "cell_type": "markdown",
   "metadata": {},
   "source": [
    "And I can interate through my dictionary, but not quite like I can with a list. It requires a little more effort. "
   ]
  },
  {
   "cell_type": "code",
   "execution_count": 7,
   "metadata": {},
   "outputs": [
    {
     "name": "stdout",
     "output_type": "stream",
     "text": [
      "Matt is 42\n",
      "Nancy is 28\n",
      "Paige is 14\n",
      "Brady is 11\n"
     ]
    }
   ],
   "source": [
    "for name, age in people.items():\n",
    "    print(\"%s is %i\" % (name, age))"
   ]
  },
  {
   "cell_type": "markdown",
   "metadata": {},
   "source": [
    "And I can update my dictionary on the fly by updating the key with the new value. This is handy for things like updating a player's position on the board. "
   ]
  },
  {
   "cell_type": "code",
   "execution_count": 8,
   "metadata": {},
   "outputs": [
    {
     "name": "stdout",
     "output_type": "stream",
     "text": [
      "{'Matt': 41, 'Nancy': 27, 'Paige': 13, 'Brady': 10}\n"
     ]
    }
   ],
   "source": [
    "for name, age in people.items():\n",
    "    people[name] = age-1\n",
    "    \n",
    "print(people)"
   ]
  },
  {
   "cell_type": "markdown",
   "metadata": {},
   "source": [
    "One last thing you'll need is something called a while loop. A while loop is like a for loop in that it will repeat something. But it will repeat something until a condition is met and then stop. \n",
    "\n",
    "So let's have two people decide something by flipping a coin. But they want to play best two out of three. So we need several things. First we need to establish two players and their initial state -- they haven't won anything. "
   ]
  },
  {
   "cell_type": "code",
   "execution_count": 18,
   "metadata": {
    "collapsed": true
   },
   "outputs": [],
   "source": [
    "players = {\"player1\": 0, \"player2\": 0}"
   ]
  },
  {
   "cell_type": "markdown",
   "metadata": {},
   "source": [
    "Now let's set up all the coin flipping stuff, which we've done in class before."
   ]
  },
  {
   "cell_type": "code",
   "execution_count": 19,
   "metadata": {
    "collapsed": true
   },
   "outputs": [],
   "source": [
    "import random\n",
    "\n",
    "coin = ['heads', 'tails']\n",
    "\n",
    "def flip():\n",
    "    return random.choice(coin)"
   ]
  },
  {
   "cell_type": "markdown",
   "metadata": {},
   "source": [
    "Now we need to set the game state, which we'll use in the while loop. "
   ]
  },
  {
   "cell_type": "code",
   "execution_count": 20,
   "metadata": {
    "collapsed": true
   },
   "outputs": [],
   "source": [
    "winner = False"
   ]
  },
  {
   "cell_type": "markdown",
   "metadata": {},
   "source": [
    "Now we have a lot of work to do. \n",
    "\n",
    "This might look like a lot, but understand: It's putting the pieces of this walkthrough into place and adding some things we did in the last assignment. It's just applying logic. \n",
    "\n",
    "First we have to start the while loop. In this case, it's while there isn't a winner, then loop through the list of players and have them make a call. Compare that call to a flip. If they guess right, then add one to their wins. If they get two wins, declare them the winner, set winner to false and break out of the loop. Otherwise, keep it rolling. "
   ]
  },
  {
   "cell_type": "code",
   "execution_count": 21,
   "metadata": {},
   "outputs": [
    {
     "name": "stdout",
     "output_type": "stream",
     "text": [
      "player1 calls tails in the air\n",
      "It is heads\n",
      "player2 calls tails in the air\n",
      "It is tails\n",
      "player1 calls tails in the air\n",
      "It is tails\n",
      "player2 calls tails in the air\n",
      "It is tails\n",
      "player1 calls heads in the air\n",
      "It is heads\n",
      "player2 calls heads in the air\n",
      "It is heads\n",
      "player2 wins!\n"
     ]
    }
   ],
   "source": [
    "while winner == False:\n",
    "    for name, wins in players.items():\n",
    "        call = random.choice(coin)\n",
    "        playerflip = flip()\n",
    "        print(\"%s calls %s in the air\" % (name, call))\n",
    "        print(\"It is %s\" % playerflip)\n",
    "        if call == playerflip:\n",
    "            players[name] = wins+1\n",
    "            if wins == 2:\n",
    "                print(\"%s wins!\" % name)\n",
    "                winner = True\n",
    "                break\n",
    "            else:\n",
    "                winner = False\n",
    "        else:\n",
    "            pass"
   ]
  },
  {
   "cell_type": "code",
   "execution_count": 22,
   "metadata": {},
   "outputs": [
    {
     "data": {
      "text/plain": [
       "{'player1': 2, 'player2': 3}"
      ]
     },
     "execution_count": 22,
     "metadata": {},
     "output_type": "execute_result"
    }
   ],
   "source": [
    "players"
   ]
  },
  {
   "cell_type": "markdown",
   "metadata": {},
   "source": [
    "# Assignment\n",
    "\n",
    "Write a program that plays Chutes and Ladders. Your program must:\n",
    "\n",
    "1. Use a dictionary to keep track of where players are on the board.\n",
    "2. Use a function to spin the wheel.\n",
    "3. Use a function to move a player.\n",
    "4. Correctly determine the winner, taking note of Chutes and Ladders rule on landing directly on square 100.\n",
    "5. Print to the screen important information to keep track of the game, including who won.\n",
    "\n",
    "To help you, here are the squares with chutes and ladders, where they occur on the board and where they go. \n",
    "\n",
    "    if playermove == 1:\n",
    "        playermove = 38\n",
    "    elif playermove == 4:\n",
    "        playermove = 14\n",
    "    elif playermove == 9:\n",
    "        playermove = 31\n",
    "    elif playermove == 16:\n",
    "        playermove = 6\n",
    "    elif playermove == 21:\n",
    "        playermove = 42\n",
    "    elif playermove == 28:\n",
    "        playermove = 84\n",
    "    elif playermove == 36:\n",
    "        playermove = 44\n",
    "    elif playermove == 48:\n",
    "        playermove = 26\n",
    "    elif playermove == 49:\n",
    "        playermove = 11\n",
    "    elif playermove == 51:\n",
    "        playermove = 67\n",
    "    elif playermove == 56:\n",
    "        playermove = 53\n",
    "    elif playermove == 62:\n",
    "        playermove = 19\n",
    "    elif playermove == 65:\n",
    "        playermove = 60\n",
    "    elif playermove == 71:\n",
    "        playermove = 91\n",
    "    elif playermove == 80:\n",
    "        playermove = 100\n",
    "    elif playermove == 87:\n",
    "        playermove = 24\n",
    "    elif playermove == 93:\n",
    "        playermove = 73\n",
    "    elif playermove == 95:\n",
    "        playermove = 75\n",
    "    elif playermove == 98:\n",
    "        playermove = 78\n",
    "\n"
   ]
  },
  {
   "cell_type": "code",
   "execution_count": null,
   "metadata": {
    "collapsed": true
   },
   "outputs": [],
   "source": []
  }
 ],
 "metadata": {
  "kernelspec": {
   "display_name": "Python 3",
   "language": "python",
   "name": "python3"
  },
  "language_info": {
   "codemirror_mode": {
    "name": "ipython",
    "version": 3
   },
   "file_extension": ".py",
   "mimetype": "text/x-python",
   "name": "python",
   "nbconvert_exporter": "python",
   "pygments_lexer": "ipython3",
   "version": "3.6.1"
  }
 },
 "nbformat": 4,
 "nbformat_minor": 1
}
