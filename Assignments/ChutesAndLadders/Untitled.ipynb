{
 "cells": [
  {
   "cell_type": "code",
   "execution_count": 17,
   "metadata": {},
   "outputs": [
    {
     "name": "stdout",
     "output_type": "stream",
     "text": [
      "What is the temperature today? 32\n"
     ]
    }
   ],
   "source": [
    "temp = input(\"What is the temperature today? \")\n",
    "\n",
    "try: \n",
    "    temp = int(temp)\n",
    "except:\n",
    "    temp = input(\"Try again with a number: \")"
   ]
  },
  {
   "cell_type": "code",
   "execution_count": 18,
   "metadata": {},
   "outputs": [
    {
     "name": "stdout",
     "output_type": "stream",
     "text": [
      "What's the forecast? I can deal with rain, snow, sleet, drizzle and sun. sleet\n"
     ]
    }
   ],
   "source": [
    "weather = [\"rain\", \"snow\", \"sleet\", \"drizzle\", \"sun\"]\n",
    "\n",
    "forecast = input(\"What's the forecast? I can deal with rain, snow, sleet, drizzle and sun. \")\n",
    "\n",
    "try: \n",
    "    if forecast in weather:\n",
    "        pass\n",
    "    else:\n",
    "        raise\n",
    "except:\n",
    "    forecast = input(\"Please use rain, snow, sleet, drizzle or sun\")"
   ]
  },
  {
   "cell_type": "code",
   "execution_count": 19,
   "metadata": {},
   "outputs": [
    {
     "name": "stdout",
     "output_type": "stream",
     "text": [
      "It's going to be cool. A sweater or jacket would work. A rain coat or something waterproof is a good call today.\n"
     ]
    }
   ],
   "source": [
    "if temp < 32:\n",
    "    outfit = \"It's going to be cold. Wear layers.\"\n",
    "elif temp >= 32 and temp <=60:\n",
    "    outfit = \"It's going to be cool. A sweater or jacket would work.\"\n",
    "elif temp >60 and temp <=85:\n",
    "    outfit = \"It's going to NICE. Wear what you want.\"\n",
    "else: \n",
    "    outfit = \"It's going to be HOT. Shorts and a t-shirt today.\"\n",
    "    \n",
    "if forecast == \"sun\":\n",
    "    accessories = \"Bring sunglasses with you.\"\n",
    "elif forecast == \"rain\":\n",
    "    accessories = \"An umbrella is a good idea too.\"\n",
    "elif forecast == \"snow\":\n",
    "    accessories = \"Snow means boots.\"\n",
    "elif forecast == \"sleet\" or forecast == \"drizzle\":\n",
    "    accessories = \"A rain coat or something waterproof is a good call today.\"\n",
    "else:\n",
    "    accessories = \"\"\n",
    "    \n",
    "print(\"%s %s\" % (outfit, accessories))"
   ]
  },
  {
   "cell_type": "code",
   "execution_count": null,
   "metadata": {
    "collapsed": true
   },
   "outputs": [],
   "source": []
  }
 ],
 "metadata": {
  "kernelspec": {
   "display_name": "Python 3",
   "language": "python",
   "name": "python3"
  },
  "language_info": {
   "codemirror_mode": {
    "name": "ipython",
    "version": 3
   },
   "file_extension": ".py",
   "mimetype": "text/x-python",
   "name": "python",
   "nbconvert_exporter": "python",
   "pygments_lexer": "ipython3",
   "version": "3.6.1"
  }
 },
 "nbformat": 4,
 "nbformat_minor": 2
}
